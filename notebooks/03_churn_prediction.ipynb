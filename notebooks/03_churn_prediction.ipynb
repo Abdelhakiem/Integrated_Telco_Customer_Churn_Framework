{
 "cells": [
  {
   "cell_type": "code",
   "execution_count": 2,
   "id": "ce5f0218",
   "metadata": {},
   "outputs": [],
   "source": [
    "import os\n",
    "import pandas as pd\n",
    "import numpy as np \n"
   ]
  },
  {
   "cell_type": "code",
   "execution_count": 8,
   "id": "54318d74",
   "metadata": {},
   "outputs": [],
   "source": [
    "DATASET_PATH = os.path.join('../data', 'processed')\n",
    "TRAIN_DATASET_REG_PATH = os.path.join(DATASET_PATH, 'telco_customer_churn_preprocessed-train-parametric_models.parquet')\n",
    "TEST_DATASET_REG_PATH = os.path.join(DATASET_PATH, 'telco_customer_churn_preprocessed-test-parametric_models.parquet')\n",
    "TRAIN_DATASET_TREE_PATH = os.path.join(DATASET_PATH, 'telco_customer_churn_preprocessed-train-tree_models.parquet')\n",
    "TEST_DATASET_TREE_PATH = os.path.join(DATASET_PATH, 'telco_customer_churn_preprocessed-train-tree_models.parquet')"
   ]
  },
  {
   "cell_type": "code",
   "execution_count": 9,
   "id": "32402819",
   "metadata": {},
   "outputs": [],
   "source": [
    "# reading parquet dataframe\n",
    "train_df_reg = pd.read_parquet(TRAIN_DATASET_REG_PATH)\n",
    "test_df_reg = pd.read_parquet(TEST_DATASET_REG_PATH)\n",
    "train_df_tree = pd.read_parquet(TRAIN_DATASET_TREE_PATH)\n",
    "test_df_tree = pd.read_parquet(TEST_DATASET_TREE_PATH)"
   ]
  },
  {
   "cell_type": "code",
   "execution_count": 11,
   "id": "6b7590ca",
   "metadata": {},
   "outputs": [
    {
     "data": {
      "text/plain": [
       "Churn\n",
       "False    775\n",
       "True     280\n",
       "Name: count, dtype: int64"
      ]
     },
     "execution_count": 11,
     "metadata": {},
     "output_type": "execute_result"
    }
   ],
   "source": [
    "test_df_reg.Churn.value_counts()"
   ]
  },
  {
   "cell_type": "code",
   "execution_count": 27,
   "id": "88a25e83",
   "metadata": {},
   "outputs": [],
   "source": [
    "import json\n",
    "import os\n",
    "import pickle\n",
    "import pandas as pd\n",
    "import matplotlib.pyplot as plt\n",
    "import seaborn as sns\n",
    "from sklearn.metrics import (\n",
    "    classification_report,\n",
    "    confusion_matrix,\n",
    "    roc_auc_score,\n",
    "    roc_curve\n",
    ")\n",
    "import numpy as np\n",
    "from sklearn.calibration import calibration_curve\n",
    "model_name = \"basemodel\"\n",
    "MODEL_PATH = \"../models\"\n",
    "REPORT_PATH = \"../reports\"\n"
   ]
  },
  {
   "cell_type": "code",
   "execution_count": 28,
   "id": "164a6636",
   "metadata": {},
   "outputs": [],
   "source": [
    "with open(os.path.join(MODEL_PATH, model_name, \"final_model.pkl\"), \"rb\") as f:\n",
    "    model = pickle.load(f)\n",
    "    \n",
    "with open(os.path.join(MODEL_PATH, model_name, \"target_encoder.pkl\"), \"rb\") as f:\n",
    "    target_encoder = pickle.load(f)\n"
   ]
  },
  {
   "cell_type": "code",
   "execution_count": 31,
   "id": "f057f4c7",
   "metadata": {},
   "outputs": [],
   "source": [
    "X_test = test_df_reg.drop(columns=[\"Churn\"])\n",
    "y_test = test_df_reg[\"Churn\"]"
   ]
  },
  {
   "cell_type": "code",
   "execution_count": 34,
   "id": "c7d2257c",
   "metadata": {},
   "outputs": [],
   "source": [
    "y_pred = model.predict(X_test)\n",
    "y_proba = model.predict_proba(X_test)[:, 1] \n"
   ]
  },
  {
   "cell_type": "code",
   "execution_count": 35,
   "id": "02ca3753",
   "metadata": {},
   "outputs": [
    {
     "data": {
      "text/plain": [
       "array([1, 0, 1, 0, 0, 0, 0])"
      ]
     },
     "execution_count": 35,
     "metadata": {},
     "output_type": "execute_result"
    }
   ],
   "source": [
    "y_pred[:7]"
   ]
  },
  {
   "cell_type": "code",
   "execution_count": 36,
   "id": "44f0113c",
   "metadata": {},
   "outputs": [
    {
     "data": {
      "text/plain": [
       "array([0.88924279, 0.00500352, 0.64993609, 0.26189429, 0.0160649 ,\n",
       "       0.35710609, 0.00736952])"
      ]
     },
     "execution_count": 36,
     "metadata": {},
     "output_type": "execute_result"
    }
   ],
   "source": [
    "y_proba[:7]"
   ]
  },
  {
   "cell_type": "code",
   "execution_count": 37,
   "id": "0cfe0c6c",
   "metadata": {},
   "outputs": [],
   "source": [
    "class_names = [target_encoder[\"decoder\"][i] for i in sorted(target_encoder[\"decoder\"])]\n"
   ]
  },
  {
   "cell_type": "code",
   "execution_count": null,
   "id": "b79f3392",
   "metadata": {},
   "outputs": [
    {
     "data": {
      "text/plain": [
       "[np.False_, np.True_]"
      ]
     },
     "execution_count": 38,
     "metadata": {},
     "output_type": "execute_result"
    }
   ],
   "source": [
    "report = {\n",
    "            \"classification\": classification_report(y_test, y_pred, \n",
    "                                                   target_names=class_names,\n",
    "                                                   output_dict=True),\n",
    "            \"roc_auc\": roc_auc_score(y_pred, y_proba),\n",
    "            \"confusion_matrix\": confusion_matrix(y_test_enc, y_pred).tolist()\n",
    "        }"
   ]
  },
  {
   "cell_type": "code",
   "execution_count": null,
   "id": "e5b5c0f5",
   "metadata": {},
   "outputs": [],
   "source": []
  }
 ],
 "metadata": {
  "kernelspec": {
   "display_name": "Python 3",
   "language": "python",
   "name": "python3"
  },
  "language_info": {
   "codemirror_mode": {
    "name": "ipython",
    "version": 3
   },
   "file_extension": ".py",
   "mimetype": "text/x-python",
   "name": "python",
   "nbconvert_exporter": "python",
   "pygments_lexer": "ipython3",
   "version": "3.13.1"
  }
 },
 "nbformat": 4,
 "nbformat_minor": 5
}
