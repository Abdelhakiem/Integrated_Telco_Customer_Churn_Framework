{
 "cells": [
  {
   "cell_type": "code",
   "execution_count": 1,
   "id": "665abb06",
   "metadata": {},
   "outputs": [],
   "source": [
    "import pandas as pd\n",
    "import numpy as np\n",
    "from sklearn.preprocessing import StandardScaler\n",
    "from sklearn.cluster import KMeans\n",
    "from sklearn.metrics import silhouette_score\n",
    "import matplotlib.pyplot as plt\n",
    "import seaborn as sns\n",
    "from yellowbrick.cluster import KElbowVisualizer\n",
    "\n",
    "SEGMENTATION_FEATURES = [\n",
    "    'SeniorCitizen', 'Dependents', 'MultipleLines_Yes',\n",
    "    'InternetService_Fiber optic', 'OnlineBackup_Yes',\n",
    "    'OnlineSecurity_Yes', 'DeviceProtection_Yes', 'TechSupport_Yes',\n",
    "    'PaperlessBilling', 'Contract_Month-to-month', 'tenure', 'MonthlyCharges'\n",
    "]\n"
   ]
  },
  {
   "cell_type": "code",
   "execution_count": 2,
   "id": "cb5bb558",
   "metadata": {},
   "outputs": [],
   "source": [
    "# Import required libraries\n",
    "import pandas as pd\n",
    "import numpy as np\n",
    "import matplotlib.pyplot as plt\n",
    "import seaborn as sns\n",
    "from sklearn.preprocessing import StandardScaler\n",
    "from sklearn.cluster import KMeans\n",
    "from sklearn.decomposition import PCA\n",
    "from yellowbrick.cluster import KElbowVisualizer\n",
    "import plotly.graph_objects as go\n",
    "from plotly.subplots import make_subplots\n",
    "import ipywidgets as widgets\n",
    "from IPython.display import display, HTML\n",
    "import textwrap\n",
    "\n",
    "# Set notebook display options\n",
    "pd.set_option('display.max_columns', None)\n",
    "pd.set_option('display.max_rows', 100)\n",
    "plt.style.use('ggplot')\n",
    "sns.set_palette(\"Set2\")\n",
    "\n",
    "# Main segmentation function\n",
    "def perform_customer_segmentation(df, features, n_clusters=None):\n",
    "    \"\"\"\n",
    "    Perform K-means clustering on churned customers using identified features\n",
    "    \n",
    "    Parameters:\n",
    "    df : DataFrame containing all customers\n",
    "    features : list of features to use for segmentation\n",
    "    n_clusters : optional pre-defined number of clusters\n",
    "    \n",
    "    Returns:\n",
    "    DataFrame with cluster assignments, cluster profiles, and visualization\n",
    "    \"\"\"\n",
    "    # Filter churned customers\n",
    "    churned_df = df[df['Churn'] == 1].copy()\n",
    "    print(f\"Segmenting {len(churned_df)} churned customers\")\n",
    "    \n",
    "    # Select features\n",
    "    X = churned_df[features]\n",
    "    \n",
    "    # Scale continuous features\n",
    "    continuous = ['tenure', 'MonthlyCharges']\n",
    "    scaler = StandardScaler()\n",
    "    X_scaled = X.copy()\n",
    "    if continuous:\n",
    "        X_scaled[continuous] = scaler.fit_transform(X[continuous])\n",
    "    \n",
    "    # Determine optimal clusters if not provided\n",
    "    if n_clusters is None:\n",
    "        print(\"Determining optimal cluster count...\")\n",
    "        plt.figure(figsize=(10, 6))\n",
    "        model = KMeans(random_state=42)\n",
    "        visualizer = KElbowVisualizer(model, k=(2,10), metric='distortion', timings=False)\n",
    "        visualizer.fit(X_scaled)\n",
    "        visualizer.show()\n",
    "        plt.title('Elbow Method for Optimal Clusters')\n",
    "        plt.show()\n",
    "        n_clusters = visualizer.elbow_value_\n",
    "        print(f\"Optimal clusters: {n_clusters}\")\n",
    "    \n",
    "    # Perform K-means clustering\n",
    "    kmeans = KMeans(n_clusters=n_clusters, random_state=42)\n",
    "    churned_df['Segment'] = kmeans.fit_predict(X_scaled)\n",
    "    \n",
    "    # Create cluster profiles\n",
    "    cluster_profiles = create_cluster_profiles(churned_df, features)\n",
    "    \n",
    "    # Visualize segments\n",
    "    plot_segment_distributions(churned_df, features)\n",
    "    plot_segment_radar(churned_df, features, n_clusters)\n",
    "    \n",
    "    return churned_df, cluster_profiles\n",
    "\n",
    "def create_cluster_profiles(churned_df, features):\n",
    "    \"\"\"\n",
    "    Create comprehensive profiles for each cluster\n",
    "    \"\"\"\n",
    "    # Continuous feature aggregation\n",
    "    continuous = ['tenure', 'MonthlyCharges']\n",
    "    cont_features = [f for f in features if f in continuous]\n",
    "    categorical = [f for f in features if f not in continuous]\n",
    "    \n",
    "    # Initialize profile dataframe\n",
    "    profile = churned_df.groupby('Segment').agg(\n",
    "        tenure_mean=('tenure', 'mean'),\n",
    "        tenure_median=('tenure', 'median'),\n",
    "        MonthlyCharges_mean=('MonthlyCharges', 'mean'),\n",
    "        MonthlyCharges_median=('MonthlyCharges', 'median'),\n",
    "        **{f\"{col}_prop\": (col, 'mean') for col in categorical}\n",
    "    )\n",
    "    \n",
    "    # Calculate cluster sizes\n",
    "    profile['Size'] = churned_df['Segment'].value_counts().sort_index()\n",
    "    profile['Pct_Total'] = profile['Size'] / len(churned_df) * 100\n",
    "    \n",
    "    # Add segment labels\n",
    "    profile['Segment_Label'] = profile.apply(\n",
    "        lambda row: label_segments(row, categorical), \n",
    "        axis=1\n",
    "    )\n",
    "    \n",
    "    return profile.reset_index()\n",
    "\n",
    "def label_segments(row, categorical_features):\n",
    "    \"\"\"Create human-readable labels for segments\"\"\"\n",
    "    characteristics = []\n",
    "    \n",
    "    # Tenure characterization\n",
    "    tenure = row['tenure_mean']\n",
    "    if tenure < 10:\n",
    "        characteristics.append(\"New\")\n",
    "    elif tenure < 30:\n",
    "        characteristics.append(\"Mid-term\")\n",
    "    else:\n",
    "        characteristics.append(\"Long-term\")\n",
    "    \n",
    "    # Monthly charges characterization\n",
    "    charges = row['MonthlyCharges_mean']\n",
    "    if charges > 75:\n",
    "        characteristics.append(\"Premium\")\n",
    "    elif charges > 45:\n",
    "        characteristics.append(\"Standard\")\n",
    "    else:\n",
    "        characteristics.append(\"Budget\")\n",
    "    \n",
    "    # Service characterization\n",
    "    service_features = [\n",
    "        'InternetService_Fiber optic', \n",
    "        'OnlineSecurity_Yes',\n",
    "        'DeviceProtection_Yes', \n",
    "        'TechSupport_Yes'\n",
    "    ]\n",
    "    service_score = np.mean([row[f\"{col}_prop\"] for col in service_features])\n",
    "    \n",
    "    if service_score > 0.6:\n",
    "        characteristics.append(\"Full-service\")\n",
    "    elif service_score > 0.3:\n",
    "        characteristics.append(\"Partial-service\")\n",
    "    else:\n",
    "        characteristics.append(\"Basic\")\n",
    "    \n",
    "    return \"-\".join(characteristics)\n",
    "\n",
    "def plot_segment_distributions(churned_df, features):\n",
    "    \"\"\"Visualize feature distributions across segments\"\"\"\n",
    "    # Continuous features\n",
    "    plt.figure(figsize=(14, 6))\n",
    "    for i, feature in enumerate(['tenure', 'MonthlyCharges'], 1):\n",
    "        plt.subplot(1, 2, i)\n",
    "        sns.boxplot(x='Segment', y=feature, data=churned_df)\n",
    "        plt.title(f'{feature} Distribution by Segment')\n",
    "    plt.tight_layout()\n",
    "    plt.show()\n",
    "    \n",
    "    # Categorical features (visualize top 5 most variant)\n",
    "    categorical = [f for f in features if f not in ['tenure', 'MonthlyCharges']]\n",
    "    segment_means = churned_df.groupby('Segment')[categorical].mean()\n",
    "    \n",
    "    # Calculate standard deviation across segments\n",
    "    segment_std = segment_means.std()\n",
    "    variant_features = segment_std.nlargest(5).index.tolist()\n",
    "    \n",
    "    plt.figure(figsize=(14, 8))\n",
    "    for i, feature in enumerate(variant_features, 1):\n",
    "        plt.subplot(2, 3, i)\n",
    "        sns.barplot(x=segment_means.index, y=segment_means[feature])\n",
    "        plt.title(f'% {feature}')\n",
    "        plt.ylim(0, 1)\n",
    "        plt.ylabel('Proportion')\n",
    "    plt.tight_layout()\n",
    "    plt.show()\n",
    "\n",
    "def plot_segment_radar(churned_df, features, n_clusters):\n",
    "    \"\"\"Radar chart for segment profiles using Plotly\"\"\"\n",
    "    # Aggregate data\n",
    "    agg_data = churned_df.groupby('Segment')[features].mean()\n",
    "    \n",
    "    # Normalize features (0-1 scale)\n",
    "    normalized = (agg_data - agg_data.min()) / (agg_data.max() - agg_data.min())\n",
    "    \n",
    "    # Create radar chart\n",
    "    fig = go.Figure()\n",
    "    \n",
    "    for segment in range(n_clusters):\n",
    "        fig.add_trace(go.Scatterpolar(\n",
    "            r=normalized.loc[segment].values.tolist() + [normalized.loc[segment].values[0]],\n",
    "            theta=features + [features[0]],\n",
    "            fill='toself',\n",
    "            name=f'Segment {segment} ({churned_df[churned_df[\"Segment\"] == segment].shape[0]} customers)'\n",
    "        ))\n",
    "    \n",
    "    fig.update_layout(\n",
    "        polar=dict(\n",
    "            radialaxis=dict(\n",
    "                visible=True,\n",
    "                range=[0, 1]\n",
    "            )),\n",
    "        showlegend=True,\n",
    "        title='Segment Profiles Comparison',\n",
    "        height=600\n",
    "    )\n",
    "    \n",
    "    fig.show()\n",
    "\n",
    "# Reporting functions\n",
    "def generate_segment_reports(profiles):\n",
    "    \"\"\"Generate detailed business-friendly reports for each customer segment\"\"\"\n",
    "    # Create tabs for each segment\n",
    "    tab_children = []\n",
    "    for _, segment in profiles.iterrows():\n",
    "        # Create report content\n",
    "        report_html = generate_segment_html(segment)\n",
    "        \n",
    "        # Create tab\n",
    "        tab_out = widgets.Output()\n",
    "        with tab_out:\n",
    "            display(HTML(report_html))\n",
    "            display(create_segment_plots(segment))\n",
    "        tab_children.append(tab_out)\n",
    "    \n",
    "    # Create tab container\n",
    "    tab = widgets.Tab(children=tab_children)\n",
    "    for i in range(len(profiles)):\n",
    "        tab.set_title(i, f\"Segment {profiles.iloc[i]['Segment']}\")\n",
    "    \n",
    "    display(tab)\n",
    "\n",
    "def generate_segment_html(segment):\n",
    "    \"\"\"Generate business-friendly HTML report for a segment\"\"\"\n",
    "    # Segment overview\n",
    "    html = f\"\"\"\n",
    "    <style>\n",
    "        .segment-report {{\n",
    "            font-family: Arial, sans-serif;\n",
    "            line-height: 1.6;\n",
    "            color: #333;\n",
    "        }}\n",
    "        .segment-header {{\n",
    "            background-color: #2c3e50;\n",
    "            color: white;\n",
    "            padding: 15px;\n",
    "            border-radius: 5px;\n",
    "            margin-bottom: 20px;\n",
    "        }}\n",
    "        .characteristics {{\n",
    "            background-color: #f8f9fa;\n",
    "            padding: 15px;\n",
    "            border-radius: 5px;\n",
    "            margin-bottom: 20px;\n",
    "        }}\n",
    "        .recommendations {{\n",
    "            background-color: #e8f4f8;\n",
    "            padding: 15px;\n",
    "            border-radius: 5px;\n",
    "            margin-bottom: 20px;\n",
    "        }}\n",
    "        .impact {{\n",
    "            background-color: #e2f0e4;\n",
    "            padding: 15px;\n",
    "            border-radius: 5px;\n",
    "            margin-bottom: 20px;\n",
    "        }}\n",
    "        .highlight {{\n",
    "            font-weight: bold;\n",
    "            color: #e74c3c;\n",
    "        }}\n",
    "    </style>\n",
    "    <div class=\"segment-report\">\n",
    "        <div class=\"segment-header\">\n",
    "            <h2>Customer Segment Report: {segment['Segment_Label']}</h2>\n",
    "            <h3>Segment {segment['Segment']}: {segment['Size']} customers ({segment['Pct_Total']:.1f}% of churned)</h3>\n",
    "        </div>\n",
    "        \n",
    "        <div class=\"characteristics\">\n",
    "            <h3>Key Characteristics</h3>\n",
    "            <ul>\n",
    "                <li><strong>Average Tenure:</strong> {segment['tenure_mean']:.1f} months</li>\n",
    "                <li><strong>Average Monthly Charges:</strong> ${segment['MonthlyCharges_mean']:.2f}</li>\n",
    "                <li><strong>Senior Citizens:</strong> {segment['SeniorCitizen_prop']*100:.1f}%</li>\n",
    "                <li><strong>With Dependents:</strong> {segment['Dependents_prop']*100:.1f}%</li>\n",
    "                <li><strong>Fiber Optic Users:</strong> {segment['InternetService_Fiber optic_prop']*100:.1f}%</li>\n",
    "                <li><strong>Month-to-Month Contracts:</strong> {segment['Contract_Month-to-month_prop']*100:.1f}%</li>\n",
    "            </ul>\n",
    "            \n",
    "            <h3>Service Usage</h3>\n",
    "            <ul>\n",
    "                <li><strong>Multiple Lines:</strong> {segment['MultipleLines_Yes_prop']*100:.1f}%</li>\n",
    "                <li><strong>Online Backup:</strong> {segment['OnlineBackup_Yes_prop']*100:.1f}%</li>\n",
    "                <li><strong>Online Security:</strong> {segment['OnlineSecurity_Yes_prop']*100:.1f}%</li>\n",
    "                <li><strong>Device Protection:</strong> {segment['DeviceProtection_Yes_prop']*100:.1f}%</li>\n",
    "                <li><strong>Tech Support:</strong> {segment['TechSupport_Yes_prop']*100:.1f}%</li>\n",
    "                <li><strong>Paperless Billing:</strong> {segment['PaperlessBilling_prop']*100:.1f}%</li>\n",
    "            </ul>\n",
    "        </div>\n",
    "        \n",
    "        <div class=\"recommendations\">\n",
    "            <h3>Segment Interpretation</h3>\n",
    "            <p>{get_segment_interpretation(segment)}</p>\n",
    "            \n",
    "            <h3>Churn Risk Factors</h3>\n",
    "            <p>{get_risk_factors(segment)}</p>\n",
    "            \n",
    "            <h3>Recommended Retention Strategies</h3>\n",
    "            <ol>\n",
    "                <li><strong>Targeted Offers:</strong> {get_personalized_offer(segment)}</li>\n",
    "                <li><strong>Service Improvements:</strong> {get_service_recommendation(segment)}</li>\n",
    "                <li><strong>Contract Incentives:</strong> {get_contract_recommendation(segment)}</li>\n",
    "                <li><strong>Customer Engagement:</strong> {get_engagement_strategy(segment)}</li>\n",
    "                <li><strong>Loyalty Program:</strong> {get_loyalty_recommendation(segment)}</li>\n",
    "            </ol>\n",
    "        </div>\n",
    "        \n",
    "        <div class=\"impact\">\n",
    "            <h3>Business Impact</h3>\n",
    "            <p>Preventing churn in this segment could potentially retain \n",
    "            <span class=\"highlight\">${segment['Size'] * segment['MonthlyCharges_mean'] * 12:,.0f}</span> \n",
    "            in annual revenue.</p>\n",
    "        </div>\n",
    "    </div>\n",
    "    \"\"\"\n",
    "    return html\n",
    "\n",
    "def get_segment_interpretation(segment):\n",
    "    \"\"\"Generate segment interpretation text\"\"\"\n",
    "    label_parts = segment['Segment_Label'].split('-')\n",
    "    text = f\"\"\"\n",
    "    This segment represents {label_parts[0].lower()}-tenure customers with {label_parts[1].lower()} spending patterns \n",
    "    and {label_parts[2].lower()} adoption. They are characterized by:\n",
    "    \"\"\"\n",
    "    \n",
    "    if \"New\" in label_parts[0]:\n",
    "        text += \"recently acquired customers (low tenure), \"\n",
    "    elif \"Mid-term\" in label_parts[0]:\n",
    "        text += \"medium-term customers showing established usage patterns, \"\n",
    "    else:\n",
    "        text += \"long-term loyal customers who recently churned, \"\n",
    "    \n",
    "    if \"Budget\" in label_parts[1]:\n",
    "        text += \"cost-conscious behavior sensitive to price changes, \"\n",
    "    elif \"Standard\" in label_parts[1]:\n",
    "        text += \"moderate spending patterns looking for value, \"\n",
    "    else:\n",
    "        text += \"high-value usage willing to pay for premium services, \"\n",
    "    \n",
    "    if \"Basic\" in label_parts[2]:\n",
    "        text += \"with minimal service adoption beyond core offerings.\"\n",
    "    elif \"Partial\" in label_parts[2]:\n",
    "        text += \"with moderate adoption of value-added services.\"\n",
    "    else:\n",
    "        text += \"with comprehensive adoption of premium services and features.\"\n",
    "    \n",
    "    return textwrap.dedent(text).replace('\\n', ' ').strip()\n",
    "\n",
    "def get_risk_factors(segment):\n",
    "    \"\"\"Generate churn risk factors text\"\"\"\n",
    "    risks = []\n",
    "    if segment['Contract_Month-to-month_prop'] > 0.7:\n",
    "        risks.append(\"high proportion of month-to-month contracts (low commitment)\")\n",
    "    if segment['tenure_mean'] < 12:\n",
    "        risks.append(\"new customers with low tenure (highest churn risk period)\")\n",
    "    if segment['MonthlyCharges_mean'] > 80 and segment['Contract_Month-to-month_prop'] > 0.6:\n",
    "        risks.append(\"high monthly charges without long-term commitment\")\n",
    "    if segment['InternetService_Fiber optic_prop'] > 0.8 and segment['OnlineSecurity_Yes_prop'] < 0.3:\n",
    "        risks.append(\"fiber optic users without adequate security services\")\n",
    "    \n",
    "    if not risks:\n",
    "        return \"No significant unique risk factors identified beyond general churn patterns.\"\n",
    "    \n",
    "    return \"This segment faces elevated churn risk due to: \" + \", \".join(risks)\n",
    "\n",
    "def get_personalized_offer(segment):\n",
    "    \"\"\"Generate personalized offer based on segment characteristics\"\"\"\n",
    "    if segment['MonthlyCharges_mean'] > 80:\n",
    "        return \"Premium bundle discount: Offer 20% off premium services for 6 months\"\n",
    "    elif segment['InternetService_Fiber optic_prop'] > 0.7:\n",
    "        if segment['OnlineSecurity_Yes_prop'] < 0.3:\n",
    "            return \"Free security bundle: Include online security for 3 months\"\n",
    "        return \"Speed upgrade: Free internet speed boost for loyal customers\"\n",
    "    elif segment['Contract_Month-to-month_prop'] > 0.8:\n",
    "        return \"Commitment incentive: $10/month discount for 1-year contract\"\n",
    "    return \"Value package: Custom bundle of most-used services at 15% discount\"\n",
    "\n",
    "def get_service_recommendation(segment):\n",
    "    \"\"\"Generate service improvement recommendations\"\"\"\n",
    "    low_services = []\n",
    "    if segment['OnlineSecurity_Yes_prop'] < 0.3:\n",
    "        low_services.append(\"security\")\n",
    "    if segment['DeviceProtection_Yes_prop'] < 0.3:\n",
    "        low_services.append(\"device protection\")\n",
    "    if segment['TechSupport_Yes_prop'] < 0.3:\n",
    "        low_services.append(\"tech support\")\n",
    "    \n",
    "    if low_services:\n",
    "        return f\"Educate customers on benefits of {'/'.join(low_services)} through personalized tutorials\"\n",
    "    return \"Enhance existing services with premium features for free trial period\"\n",
    "\n",
    "def get_contract_recommendation(segment):\n",
    "    \"\"\"Generate contract recommendations\"\"\"\n",
    "    if segment['Contract_Month-to-month_prop'] > 0.7:\n",
    "        return \"Offer tiered discounts: 10% for 1-year, 15% for 2-year contracts\"\n",
    "    return \"Introduce flexible long-term contracts with price-lock guarantee\"\n",
    "\n",
    "def get_engagement_strategy(segment):\n",
    "    \"\"\"Generate engagement strategies\"\"\"\n",
    "    if segment['SeniorCitizen_prop'] > 0.25:\n",
    "        return \"Senior-focused support: Dedicated helpline and in-person tech assistance\"\n",
    "    elif segment['Dependents_prop'] > 0.3:\n",
    "        return \"Family plans: Create bundled services for households with multiple users\"\n",
    "    return \"Proactive check-ins: Monthly usage reports and optimization suggestions\"\n",
    "\n",
    "def get_loyalty_recommendation(segment):\n",
    "    \"\"\"Generate loyalty program recommendations\"\"\"\n",
    "    if segment['tenure_mean'] > 24:\n",
    "        return \"Loyalty rewards: Exclusive benefits for long-term customers (early upgrades, priority support)\"\n",
    "    return \"Points system: Earn redeemable points for each month of service\"\n",
    "\n",
    "def create_segment_plots(segment):\n",
    "    \"\"\"Create visualizations for segment report\"\"\"\n",
    "    # Create subplots\n",
    "    fig = make_subplots(rows=1, cols=2, \n",
    "                        subplot_titles=('Service Adoption Rates', 'Customer Profile Characteristics'),\n",
    "                        specs=[[{\"type\": \"bar\"}, {\"type\": \"bar\"}]])\n",
    "    \n",
    "    # Service adoption plot\n",
    "    services = ['MultipleLines_Yes', 'OnlineBackup_Yes', 'OnlineSecurity_Yes', \n",
    "                'DeviceProtection_Yes', 'TechSupport_Yes']\n",
    "    service_names = ['Multiple Lines', 'Online Backup', 'Online Security', \n",
    "                     'Device Protection', 'Tech Support']\n",
    "    service_values = [segment[f\"{s}_prop\"] for s in services]\n",
    "    \n",
    "    fig.add_trace(\n",
    "        go.Bar(\n",
    "            y=service_names,\n",
    "            x=service_values,\n",
    "            orientation='h',\n",
    "            marker_color='#3498db',\n",
    "            text=[f\"{v*100:.1f}%\" for v in service_values],\n",
    "            textposition='auto'\n",
    "        ),\n",
    "        row=1, col=1\n",
    "    )\n",
    "    \n",
    "    # Customer profile plot\n",
    "    demographics = {\n",
    "        'Senior Citizens': segment['SeniorCitizen_prop'],\n",
    "        'With Dependents': segment['Dependents_prop'],\n",
    "        'Paperless Billing': segment['PaperlessBilling_prop'],\n",
    "        'Fiber Optic': segment['InternetService_Fiber optic_prop'],\n",
    "        'Month-to-Month': segment['Contract_Month-to-month_prop']\n",
    "    }\n",
    "    \n",
    "    fig.add_trace(\n",
    "        go.Bar(\n",
    "            y=list(demographics.keys()),\n",
    "            x=list(demographics.values()),\n",
    "            orientation='h',\n",
    "            marker_color='#2ecc71',\n",
    "            text=[f\"{v*100:.1f}%\" for v in demographics.values()],\n",
    "            textposition='auto'\n",
    "        ),\n",
    "        row=1, col=2\n",
    "    )\n",
    "    \n",
    "    # Update layout\n",
    "    fig.update_layout(\n",
    "        height=500,\n",
    "        showlegend=False,\n",
    "        title_text=f\"Segment {segment['Segment']}: {segment['Segment_Label']}\",\n",
    "        margin=dict(l=100, r=50, t=80, b=80)\n",
    "    )\n",
    "    \n",
    "    fig.update_xaxes(range=[0, 1], row=1, col=1)\n",
    "    fig.update_xaxes(range=[0, 1], row=1, col=2)\n",
    "    \n",
    "    return fig\n",
    "\n",
    "# Main execution function\n"
   ]
  },
  {
   "cell_type": "code",
   "execution_count": 3,
   "id": "1fa0f8f4",
   "metadata": {},
   "outputs": [],
   "source": [
    "# Load processed data\n",
    "df = pd.read_parquet(\"../data/processed/telco_customer_churn_preprocessed-train-parametric_models.parquet\")"
   ]
  },
  {
   "cell_type": "code",
   "execution_count": 4,
   "id": "69752be6",
   "metadata": {},
   "outputs": [
    {
     "name": "stdout",
     "output_type": "stream",
     "text": [
      "Starting customer segmentation process...\n",
      "Segmenting 4388 churned customers\n",
      "Determining optimal cluster count...\n"
     ]
    },
    {
     "data": {
      "image/png": "[encoded data removed]",
      "text/plain": [
       "<Figure size 1000x600 with 1 Axes>"
      ]
     },
     "metadata": {},
     "output_type": "display_data"
    },
    {
     "data": {
      "image/png": "[encoded data removed]",
      "text/plain": [
       "<Figure size 800x550 with 1 Axes>"
      ]
     },
     "metadata": {},
     "output_type": "display_data"
    },
    {
     "name": "stdout",
     "output_type": "stream",
     "text": [
      "Optimal clusters: 5\n"
     ]
    },
    {
     "data": {
      "image/png": "[encoded data removed]",
      "text/plain": [
       "<Figure size 1400x600 with 2 Axes>"
      ]
     },
     "metadata": {},
     "output_type": "display_data"
    },
    {
     "data": {
      "image/png": "[encoded data removed]",
      "text/plain": [
       "<Figure size 1400x800 with 5 Axes>"
      ]
     },
     "metadata": {},
     "output_type": "display_data"
    },
    {
     "data": {
      "application/vnd.plotly.v1+json": {
       "config": {
        "plotlyServerURL": "https://plot.ly"
       },
       "data": [
        {
         "fill": "toself",
         "name": "Segment 0 (1188 customers)",
         "r": [
          1,
          0,
          1,
          1,
          0.4477068617889523,
          0.03643845455644367,
          0.4335965508371438,
          0.1502837377154317,
          1,
          0.9822875007245119,
          0.24494971950515873,
          0.8595413428199599,
          1
         ],
         "theta": [
          "SeniorCitizen",
          "Dependents",
          "MultipleLines_Yes",
          "InternetService_Fiber optic",
          "OnlineBackup_Yes",
          "OnlineSecurity_Yes",
          "DeviceProtection_Yes",
          "TechSupport_Yes",
          "PaperlessBilling",
          "Contract_Month-to-month",
          "tenure",
          "MonthlyCharges",
          "SeniorCitizen"
         ],
         "type": "scatterpolar"
        },
        {
         "fill": "toself",
         "name": "Segment 1 (254 customers)",
         "r": [
          0.21052070791557015,
          1,
          0.06897580537871562,
          0.15524208410118948,
          0.9498997395023392,
          1,
          0.44818789897556993,
          0.7070994450522694,
          0.12576412238425677,
          0,
          0.7553119173219712,
          0.308471988378507,
          0.21052070791557015
         ],
         "theta": [
          "SeniorCitizen",
          "Dependents",
          "MultipleLines_Yes",
          "InternetService_Fiber optic",
          "OnlineBackup_Yes",
          "OnlineSecurity_Yes",
          "DeviceProtection_Yes",
          "TechSupport_Yes",
          "PaperlessBilling",
          "Contract_Month-to-month",
          "tenure",
          "MonthlyCharges",
          "SeniorCitizen"
         ],
         "type": "scatterpolar"
        },
        {
         "fill": "toself",
         "name": "Segment 2 (661 customers)",
         "r": [
          0.6011067005951126,
          0.2527479028375013,
          0.983280623590963,
          0.9850606753146425,
          1,
          0.7319829145360424,
          1,
          1,
          0.8602296911176968,
          0.0002623321032261074,
          1,
          1,
          0.6011067005951126
         ],
         "theta": [
          "SeniorCitizen",
          "Dependents",
          "MultipleLines_Yes",
          "InternetService_Fiber optic",
          "OnlineBackup_Yes",
          "OnlineSecurity_Yes",
          "DeviceProtection_Yes",
          "TechSupport_Yes",
          "PaperlessBilling",
          "Contract_Month-to-month",
          "tenure",
          "MonthlyCharges",
          "SeniorCitizen"
         ],
         "type": "scatterpolar"
        },
        {
         "fill": "toself",
         "name": "Segment 3 (1044 customers)",
         "r": [
          0,
          0.24703343361246025,
          0,
          0,
          0,
          0.1445917492694919,
          0,
          0.11470991239839581,
          0,
          0.955568607472849,
          0.0033901296930270077,
          0,
          0
         ],
         "theta": [
          "SeniorCitizen",
          "Dependents",
          "MultipleLines_Yes",
          "InternetService_Fiber optic",
          "OnlineBackup_Yes",
          "OnlineSecurity_Yes",
          "DeviceProtection_Yes",
          "TechSupport_Yes",
          "PaperlessBilling",
          "Contract_Month-to-month",
          "tenure",
          "MonthlyCharges",
          "SeniorCitizen"
         ],
         "type": "scatterpolar"
        },
        {
         "fill": "toself",
         "name": "Segment 4 (1241 customers)",
         "r": [
          0.3402816925980729,
          0.07698901383956011,
          0.11921417007041844,
          0.9727721295454934,
          0.028811435624453985,
          0,
          0.10147394650836077,
          0,
          0.7525058202332399,
          1,
          0,
          0.6599208463947202,
          0.3402816925980729
         ],
         "theta": [
          "SeniorCitizen",
          "Dependents",
          "MultipleLines_Yes",
          "InternetService_Fiber optic",
          "OnlineBackup_Yes",
          "OnlineSecurity_Yes",
          "DeviceProtection_Yes",
          "TechSupport_Yes",
          "PaperlessBilling",
          "Contract_Month-to-month",
          "tenure",
          "MonthlyCharges",
          "SeniorCitizen"
         ],
         "type": "scatterpolar"
        }
       ],
       "layout": {
        "height": 600,
        "polar": {
         "radialaxis": {
          "range": [
           0,
           1
          ],
          "visible": true
         }
        },
        "showlegend": true,
        "template": {
         "data": {
          "bar": [
           {
            "error_x": {
             "color": "#2a3f5f"
            },
            "error_y": {
             "color": "#2a3f5f"
            },
            "marker": {
             "line": {
              "color": "#E5ECF6",
              "width": 0.5
             },
             "pattern": {
              "fillmode": "overlay",
              "size": 10,
              "solidity": 0.2
             }
            },
            "type": "bar"
           }
          ],
          "barpolar": [
           {
            "marker": {
             "line": {
              "color": "#E5ECF6",
              "width": 0.5
             },
             "pattern": {
              "fillmode": "overlay",
              "size": 10,
              "solidity": 0.2
             }
            },
            "type": "barpolar"
           }
          ],
          "carpet": [
           {
            "aaxis": {
             "endlinecolor": "#2a3f5f",
             "gridcolor": "white",
             "linecolor": "white",
             "minorgridcolor": "white",
             "startlinecolor": "#2a3f5f"
            },
            "baxis": {
             "endlinecolor": "#2a3f5f",
             "gridcolor": "white",
             "linecolor": "white",
             "minorgridcolor": "white",
             "startlinecolor": "#2a3f5f"
            },
            "type": "carpet"
           }
          ],
          "choropleth": [
           {
            "colorbar": {
             "outlinewidth": 0,
             "ticks": ""
            },
            "type": "choropleth"
           }
          ],
          "contour": [
           {
            "colorbar": {
             "outlinewidth": 0,
             "ticks": ""
            },
            "colorscale": [
             [
              0,
              "#0d0887"
             ],
             [
              0.1111111111111111,
              "#46039f"
             ],
             [
              0.2222222222222222,
              "#7201a8"
             ],
             [
              0.3333333333333333,
              "#9c179e"
             ],
             [
              0.4444444444444444,
              "#bd3786"
             ],
             [
              0.5555555555555556,
              "#d8576b"
             ],
             [
              0.6666666666666666,
              "#ed7953"
             ],
             [
              0.7777777777777778,
              "#fb9f3a"
             ],
             [
              0.8888888888888888,
              "#fdca26"
             ],
             [
              1,
              "#f0f921"
             ]
            ],
            "type": "contour"
           }
          ],
          "contourcarpet": [
           {
            "colorbar": {
             "outlinewidth": 0,
             "ticks": ""
            },
            "type": "contourcarpet"
           }
          ],
          "heatmap": [
           {
            "colorbar": {
             "outlinewidth": 0,
             "ticks": ""
            },
            "colorscale": [
             [
              0,
              "#0d0887"
             ],
             [
              0.1111111111111111,
              "#46039f"
             ],
             [
              0.2222222222222222,
              "#7201a8"
             ],
             [
              0.3333333333333333,
              "#9c179e"
             ],
             [
              0.4444444444444444,
              "#bd3786"
             ],
             [
              0.5555555555555556,
              "#d8576b"
             ],
             [
              0.6666666666666666,
              "#ed7953"
             ],
             [
              0.7777777777777778,
              "#fb9f3a"
             ],
             [
              0.8888888888888888,
              "#fdca26"
             ],
             [
              1,
              "#f0f921"
             ]
            ],
            "type": "heatmap"
           }
          ],
          "histogram": [
           {
            "marker": {
             "pattern": {
              "fillmode": "overlay",
              "size": 10,
              "solidity": 0.2
             }
            },
            "type": "histogram"
           }
          ],
          "histogram2d": [
           {
            "colorbar": {
             "outlinewidth": 0,
             "ticks": ""
            },
            "colorscale": [
             [
              0,
              "#0d0887"
             ],
             [
              0.1111111111111111,
              "#46039f"
             ],
             [
              0.2222222222222222,
              "#7201a8"
             ],
             [
              0.3333333333333333,
              "#9c179e"
             ],
             [
              0.4444444444444444,
              "#bd3786"
             ],
             [
              0.5555555555555556,
              "#d8576b"
             ],
             [
              0.6666666666666666,
              "#ed7953"
             ],
             [
              0.7777777777777778,
              "#fb9f3a"
             ],
             [
              0.8888888888888888,
              "#fdca26"
             ],
             [
              1,
              "#f0f921"
             ]
            ],
            "type": "histogram2d"
           }
          ],
          "histogram2dcontour": [
           {
            "colorbar": {
             "outlinewidth": 0,
             "ticks": ""
            },
            "colorscale": [
             [
              0,
              "#0d0887"
             ],
             [
              0.1111111111111111,
              "#46039f"
             ],
             [
              0.2222222222222222,
              "#7201a8"
             ],
             [
              0.3333333333333333,
              "#9c179e"
             ],
             [
              0.4444444444444444,
              "#bd3786"
             ],
             [
              0.5555555555555556,
              "#d8576b"
             ],
             [
              0.6666666666666666,
              "#ed7953"
             ],
             [
              0.7777777777777778,
              "#fb9f3a"
             ],
             [
              0.8888888888888888,
              "#fdca26"
             ],
             [
              1,
              "#f0f921"
             ]
            ],
            "type": "histogram2dcontour"
           }
          ],
          "mesh3d": [
           {
            "colorbar": {
             "outlinewidth": 0,
             "ticks": ""
            },
            "type": "mesh3d"
           }
          ],
          "parcoords": [
           {
            "line": {
             "colorbar": {
              "outlinewidth": 0,
              "ticks": ""
             }
            },
            "type": "parcoords"
           }
          ],
          "pie": [
           {
            "automargin": true,
            "type": "pie"
           }
          ],
          "scatter": [
           {
            "fillpattern": {
             "fillmode": "overlay",
             "size": 10,
             "solidity": 0.2
            },
            "type": "scatter"
           }
          ],
          "scatter3d": [
           {
            "line": {
             "colorbar": {
              "outlinewidth": 0,
              "ticks": ""
             }
            },
            "marker": {
             "colorbar": {
              "outlinewidth": 0,
              "ticks": ""
             }
            },
            "type": "scatter3d"
           }
          ],
          "scattercarpet": [
           {
            "marker": {
             "colorbar": {
              "outlinewidth": 0,
              "ticks": ""
             }
            },
            "type": "scattercarpet"
           }
          ],
          "scattergeo": [
           {
            "marker": {
             "colorbar": {
              "outlinewidth": 0,
              "ticks": ""
             }
            },
            "type": "scattergeo"
           }
          ],
          "scattergl": [
           {
            "marker": {
             "colorbar": {
              "outlinewidth": 0,
              "ticks": ""
             }
            },
            "type": "scattergl"
           }
          ],
          "scattermap": [
           {
            "marker": {
             "colorbar": {
              "outlinewidth": 0,
              "ticks": ""
             }
            },
            "type": "scattermap"
           }
          ],
          "scattermapbox": [
           {
            "marker": {
             "colorbar": {
              "outlinewidth": 0,
              "ticks": ""
             }
            },
            "type": "scattermapbox"
           }
          ],
          "scatterpolar": [
           {
            "marker": {
             "colorbar": {
              "outlinewidth": 0,
              "ticks": ""
             }
            },
            "type": "scatterpolar"
           }
          ],
          "scatterpolargl": [
           {
            "marker": {
             "colorbar": {
              "outlinewidth": 0,
              "ticks": ""
             }
            },
            "type": "scatterpolargl"
           }
          ],
          "scatterternary": [
           {
            "marker": {
             "colorbar": {
              "outlinewidth": 0,
              "ticks": ""
             }
            },
            "type": "scatterternary"
           }
          ],
          "surface": [
           {
            "colorbar": {
             "outlinewidth": 0,
             "ticks": ""
            },
            "colorscale": [
             [
              0,
              "#0d0887"
             ],
             [
              0.1111111111111111,
              "#46039f"
             ],
             [
              0.2222222222222222,
              "#7201a8"
             ],
             [
              0.3333333333333333,
              "#9c179e"
             ],
             [
              0.4444444444444444,
              "#bd3786"
             ],
             [
              0.5555555555555556,
              "#d8576b"
             ],
             [
              0.6666666666666666,
              "#ed7953"
             ],
             [
              0.7777777777777778,
              "#fb9f3a"
             ],
             [
              0.8888888888888888,
              "#fdca26"
             ],
             [
              1,
              "#f0f921"
             ]
            ],
            "type": "surface"
           }
          ],
          "table": [
           {
            "cells": {
             "fill": {
              "color": "#EBF0F8"
             },
             "line": {
              "color": "white"
             }
            },
            "header": {
             "fill": {
              "color": "#C8D4E3"
             },
             "line": {
              "color": "white"
             }
            },
            "type": "table"
           }
          ]
         },
         "layout": {
          "annotationdefaults": {
           "arrowcolor": "#2a3f5f",
           "arrowhead": 0,
           "arrowwidth": 1
          },
          "autotypenumbers": "strict",
          "coloraxis": {
           "colorbar": {
            "outlinewidth": 0,
            "ticks": ""
           }
          },
          "colorscale": {
           "diverging": [
            [
             0,
             "#8e0152"
            ],
            [
             0.1,
             "#c51b7d"
            ],
            [
             0.2,
             "#de77ae"
            ],
            [
             0.3,
             "#f1b6da"
            ],
            [
             0.4,
             "#fde0ef"
            ],
            [
             0.5,
             "#f7f7f7"
            ],
            [
             0.6,
             "#e6f5d0"
            ],
            [
             0.7,
             "#b8e186"
            ],
            [
             0.8,
             "#7fbc41"
            ],
            [
             0.9,
             "#4d9221"
            ],
            [
             1,
             "#276419"
            ]
           ],
           "sequential": [
            [
             0,
             "#0d0887"
            ],
            [
             0.1111111111111111,
             "#46039f"
            ],
            [
             0.2222222222222222,
             "#7201a8"
            ],
            [
             0.3333333333333333,
             "#9c179e"
            ],
            [
             0.4444444444444444,
             "#bd3786"
            ],
            [
             0.5555555555555556,
             "#d8576b"
            ],
            [
             0.6666666666666666,
             "#ed7953"
            ],
            [
             0.7777777777777778,
             "#fb9f3a"
            ],
            [
             0.8888888888888888,
             "#fdca26"
            ],
            [
             1,
             "#f0f921"
            ]
           ],
           "sequentialminus": [
            [
             0,
             "#0d0887"
            ],
            [
             0.1111111111111111,
             "#46039f"
            ],
            [
             0.2222222222222222,
             "#7201a8"
            ],
            [
             0.3333333333333333,
             "#9c179e"
            ],
            [
             0.4444444444444444,
             "#bd3786"
            ],
            [
             0.5555555555555556,
             "#d8576b"
            ],
            [
             0.6666666666666666,
             "#ed7953"
            ],
            [
             0.7777777777777778,
             "#fb9f3a"
            ],
            [
             0.8888888888888888,
             "#fdca26"
            ],
            [
             1,
             "#f0f921"
            ]
           ]
          },
          "colorway": [
           "#636efa",
           "#EF553B",
           "#00cc96",
           "#ab63fa",
           "#FFA15A",
           "#19d3f3",
           "#FF6692",
           "#B6E880",
           "#FF97FF",
           "#FECB52"
          ],
          "font": {
           "color": "#2a3f5f"
          },
          "geo": {
           "bgcolor": "white",
           "lakecolor": "white",
           "landcolor": "#E5ECF6",
           "showlakes": true,
           "showland": true,
           "subunitcolor": "white"
          },
          "hoverlabel": {
           "align": "left"
          },
          "hovermode": "closest",
          "mapbox": {
           "style": "light"
          },
          "paper_bgcolor": "white",
          "plot_bgcolor": "#E5ECF6",
          "polar": {
           "angularaxis": {
            "gridcolor": "white",
            "linecolor": "white",
            "ticks": ""
           },
           "bgcolor": "#E5ECF6",
           "radialaxis": {
            "gridcolor": "white",
            "linecolor": "white",
            "ticks": ""
           }
          },
          "scene": {
           "xaxis": {
            "backgroundcolor": "#E5ECF6",
            "gridcolor": "white",
            "gridwidth": 2,
            "linecolor": "white",
            "showbackground": true,
            "ticks": "",
            "zerolinecolor": "white"
           },
           "yaxis": {
            "backgroundcolor": "#E5ECF6",
            "gridcolor": "white",
            "gridwidth": 2,
            "linecolor": "white",
            "showbackground": true,
            "ticks": "",
            "zerolinecolor": "white"
           },
           "zaxis": {
            "backgroundcolor": "#E5ECF6",
            "gridcolor": "white",
            "gridwidth": 2,
            "linecolor": "white",
            "showbackground": true,
            "ticks": "",
            "zerolinecolor": "white"
           }
          },
          "shapedefaults": {
           "line": {
            "color": "#2a3f5f"
           }
          },
          "ternary": {
           "aaxis": {
            "gridcolor": "white",
            "linecolor": "white",
            "ticks": ""
           },
           "baxis": {
            "gridcolor": "white",
            "linecolor": "white",
            "ticks": ""
           },
           "bgcolor": "#E5ECF6",
           "caxis": {
            "gridcolor": "white",
            "linecolor": "white",
            "ticks": ""
           }
          },
          "title": {
           "x": 0.05
          },
          "xaxis": {
           "automargin": true,
           "gridcolor": "white",
           "linecolor": "white",
           "ticks": "",
           "title": {
            "standoff": 15
           },
           "zerolinecolor": "white",
           "zerolinewidth": 2
          },
          "yaxis": {
           "automargin": true,
           "gridcolor": "white",
           "linecolor": "white",
           "ticks": "",
           "title": {
            "standoff": 15
           },
           "zerolinecolor": "white",
           "zerolinewidth": 2
          }
         }
        },
        "title": {
         "text": "Segment Profiles Comparison"
        }
       }
      }
     },
     "metadata": {},
     "output_type": "display_data"
    },
    {
     "name": "stdout",
     "output_type": "stream",
     "text": [
      "\n",
      "Segmentation completed. Cluster profiles:\n"
     ]
    },
    {
     "data": {
      "text/html": [
       "<div>\n",
       "<style scoped>\n",
       "    .dataframe tbody tr th:only-of-type {\n",
       "        vertical-align: middle;\n",
       "    }\n",
       "\n",
       "    .dataframe tbody tr th {\n",
       "        vertical-align: top;\n",
       "    }\n",
       "\n",
       "    .dataframe thead th {\n",
       "        text-align: right;\n",
       "    }\n",
       "</style>\n",
       "<table border=\"1\" class=\"dataframe\">\n",
       "  <thead>\n",
       "    <tr style=\"text-align: right;\">\n",
       "      <th></th>\n",
       "      <th>Segment</th>\n",
       "      <th>Segment_Label</th>\n",
       "      <th>Size</th>\n",
       "      <th>Pct_Total</th>\n",
       "      <th>tenure_mean</th>\n",
       "      <th>MonthlyCharges_mean</th>\n",
       "    </tr>\n",
       "  </thead>\n",
       "  <tbody>\n",
       "    <tr>\n",
       "      <th>0</th>\n",
       "      <td>0</td>\n",
       "      <td>New-Budget-Partial-service</td>\n",
       "      <td>1188</td>\n",
       "      <td>27.073838</td>\n",
       "      <td>-0.638918</td>\n",
       "      <td>0.875181</td>\n",
       "    </tr>\n",
       "    <tr>\n",
       "      <th>1</th>\n",
       "      <td>1</td>\n",
       "      <td>New-Budget-Basic</td>\n",
       "      <td>254</td>\n",
       "      <td>5.788514</td>\n",
       "      <td>0.335474</td>\n",
       "      <td>-0.257028</td>\n",
       "    </tr>\n",
       "    <tr>\n",
       "      <th>2</th>\n",
       "      <td>2</td>\n",
       "      <td>New-Budget-Partial-service</td>\n",
       "      <td>661</td>\n",
       "      <td>15.063810</td>\n",
       "      <td>0.802637</td>\n",
       "      <td>1.163763</td>\n",
       "    </tr>\n",
       "    <tr>\n",
       "      <th>3</th>\n",
       "      <td>3</td>\n",
       "      <td>New-Budget-Basic</td>\n",
       "      <td>1044</td>\n",
       "      <td>23.792160</td>\n",
       "      <td>-1.100108</td>\n",
       "      <td>-0.890804</td>\n",
       "    </tr>\n",
       "    <tr>\n",
       "      <th>4</th>\n",
       "      <td>4</td>\n",
       "      <td>New-Budget-Partial-service</td>\n",
       "      <td>1241</td>\n",
       "      <td>28.281677</td>\n",
       "      <td>-1.106581</td>\n",
       "      <td>0.465047</td>\n",
       "    </tr>\n",
       "  </tbody>\n",
       "</table>\n",
       "</div>"
      ],
      "text/plain": [
       "   Segment               Segment_Label  Size  Pct_Total  tenure_mean  \\\n",
       "0        0  New-Budget-Partial-service  1188  27.073838    -0.638918   \n",
       "1        1            New-Budget-Basic   254   5.788514     0.335474   \n",
       "2        2  New-Budget-Partial-service   661  15.063810     0.802637   \n",
       "3        3            New-Budget-Basic  1044  23.792160    -1.100108   \n",
       "4        4  New-Budget-Partial-service  1241  28.281677    -1.106581   \n",
       "\n",
       "   MonthlyCharges_mean  \n",
       "0             0.875181  \n",
       "1            -0.257028  \n",
       "2             1.163763  \n",
       "3            -0.890804  \n",
       "4             0.465047  "
      ]
     },
     "metadata": {},
     "output_type": "display_data"
    },
    {
     "name": "stdout",
     "output_type": "stream",
     "text": [
      "\n",
      "Generating business reports...\n"
     ]
    },
    {
     "data": {
      "application/vnd.jupyter.widget-view+json": {
       "model_id": "d90c1e7387c84fe8a0d6c7f5ed5a421c",
       "version_major": 2,
       "version_minor": 0
      },
      "text/plain": [
       "Tab(children=(Output(), Output(), Output(), Output(), Output()), selected_index=0, titles=('Segment 0', 'Segme…"
      ]
     },
     "metadata": {},
     "output_type": "display_data"
    },
    {
     "name": "stdout",
     "output_type": "stream",
     "text": [
      "\n",
      "Process completed successfully!\n"
     ]
    }
   ],
   "source": [
    "SEGMENTATION_FEATURES = [\n",
    "    'SeniorCitizen', 'Dependents', 'MultipleLines_Yes',\n",
    "    'InternetService_Fiber optic', 'OnlineBackup_Yes',\n",
    "    'OnlineSecurity_Yes', 'DeviceProtection_Yes',\n",
    "    'TechSupport_Yes', 'PaperlessBilling',\n",
    "    'Contract_Month-to-month', 'tenure', 'MonthlyCharges'\n",
    "]\n",
    "\n",
    "print(\"Starting customer segmentation process...\")\n",
    "\n",
    "# Perform segmentation\n",
    "churned_segmented, profiles = perform_customer_segmentation(\n",
    "    df, \n",
    "    SEGMENTATION_FEATURES\n",
    ")\n",
    "\n",
    "# Display segmentation results\n",
    "print(\"\\nSegmentation completed. Cluster profiles:\")\n",
    "display(profiles[['Segment', 'Segment_Label', 'Size', 'Pct_Total', \n",
    "                    'tenure_mean', 'MonthlyCharges_mean']])\n",
    "\n",
    "# Generate business reports\n",
    "print(\"\\nGenerating business reports...\")\n",
    "generate_segment_reports(profiles)\n",
    "\n",
    "print(\"\\nProcess completed successfully!\")\n",
    "\n"
   ]
  }
 ],
 "metadata": {
  "kernelspec": {
   "display_name": "Python 3",
   "language": "python",
   "name": "python3"
  },
  "language_info": {
   "codemirror_mode": {
    "name": "ipython",
    "version": 3
   },
   "file_extension": ".py",
   "mimetype": "text/x-python",
   "name": "python",
   "nbconvert_exporter": "python",
   "pygments_lexer": "ipython3",
   "version": "3.13.1"
  }
 },
 "nbformat": 4,
 "nbformat_minor": 5
}
